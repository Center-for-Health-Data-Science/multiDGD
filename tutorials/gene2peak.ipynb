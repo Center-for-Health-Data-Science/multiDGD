{
 "cells": [
  {
   "cell_type": "markdown",
   "metadata": {},
   "source": [
    "## multiDGD - gene2peak perturbation example"
   ]
  },
  {
   "cell_type": "code",
   "execution_count": 6,
   "metadata": {},
   "outputs": [],
   "source": [
    "import multiDGD\n",
    "import numpy as np\n",
    "import anndata as ad"
   ]
  },
  {
   "cell_type": "markdown",
   "metadata": {},
   "source": [
    "## Load a pre-trained model\n",
    "\n",
    "See [example_adata_bonemarrow](https://github.com/Center-for-Health-Data-Science/multiDGD/blob/main/tutorials/example_adata_bonemarrow.ipynb) tutorial."
   ]
  },
  {
   "cell_type": "code",
   "execution_count": 19,
   "metadata": {},
   "outputs": [],
   "source": [
    "import requests\n",
    "\n",
    "# Download model and hyperparameters\n",
    "figshare_url = 'https://api.figshare.com/v2/articles/23796198/files'\n",
    "files = {\n",
    "    'dgd_human_bonemarrow.pt':'41735907',\n",
    "    'dgd_human_bonemarrow_hyperparameters.json':'41735904'\n",
    "}\n",
    "\n",
    "for file_name, file_id in files.items():\n",
    "    file_url = f'{figshare_url}/{file_id}'\n",
    "    file_response = requests.get(file_url).json()\n",
    "    file_download_url = file_response['download_url']\n",
    "    response = requests.get(file_download_url, stream=True)\n",
    "    with open(file_name, 'wb') as f:\n",
    "        for chunk in response.iter_content(chunk_size=8192):\n",
    "            f.write(chunk)\n",
    "\n",
    "data = ad.read_h5ad('./human_bonemarrow.h5ad')\n",
    "# Patch for broken data loader\n",
    "data.obs['train_val_test'].to_csv('./_obs.csv')"
   ]
  },
  {
   "cell_type": "code",
   "execution_count": 3,
   "metadata": {},
   "outputs": [
    {
     "name": "stdout",
     "output_type": "stream",
     "text": [
      "Covariate model initialized as:\n",
      "\n",
      "        Gaussian_mix_compture:\n",
      "            Dimensionality: 2\n",
      "            Number of components: 4\n",
      "        \n",
      "#######################\n",
      "Training status\n",
      "#######################\n",
      "True\n"
     ]
    }
   ],
   "source": [
    "# Load data\n",
    "data = ad.read_h5ad('./example_data.h5ad')\n",
    "\n",
    "# load model from the saved checkpoint\n",
    "# (has to be trained on test data)\n",
    "model = multiDGD.DGD.load(data=data, save_dir='./models/', model_name='dgd_bonemarrow_default')"
   ]
  },
  {
   "cell_type": "markdown",
   "metadata": {},
   "source": [
    "### Gene2Peak\n",
    "\n",
    "This feature performs in silico perturbations on the specified gene and predicts the changes in prediction on all output features.\n",
    "\n",
    "Currently, we only support this being performed on the test data. See the tutorial on training and testing an anndata object for details on the model and test data.\n",
    "\n",
    "Right now the perturbations only consist of silencing of the given gene. Thus, a negative predicted change suggests a positive correlation."
   ]
  },
  {
   "cell_type": "code",
   "execution_count": 4,
   "metadata": {},
   "outputs": [],
   "source": [
    "# specify the gene we want to look at\n",
    "gene_name = \"ID2\"\n",
    "\n",
    "# and the samples we want to look at\n",
    "test_set = data[data.obs[\"train_val_test\"] == \"test\",:].copy()"
   ]
  },
  {
   "cell_type": "code",
   "execution_count": 5,
   "metadata": {},
   "outputs": [
    {
     "name": "stdout",
     "output_type": "stream",
     "text": [
      "using 193 samples\n"
     ]
    },
    {
     "ename": "RuntimeError",
     "evalue": "Expected all tensors to be on the same device, but found at least two devices, cuda:0 and cpu!",
     "output_type": "error",
     "traceback": [
      "\u001b[0;31m---------------------------------------------------------------------------\u001b[0m",
      "\u001b[0;31mRuntimeError\u001b[0m                              Traceback (most recent call last)",
      "Cell \u001b[0;32mIn[5], line 1\u001b[0m\n\u001b[0;32m----> 1\u001b[0m predicted_changes, samples_of_interest \u001b[38;5;241m=\u001b[39m \u001b[43mmodel\u001b[49m\u001b[38;5;241;43m.\u001b[39;49m\u001b[43mgene2peak\u001b[49m\u001b[43m(\u001b[49m\u001b[43mgene_name\u001b[49m\u001b[38;5;241;43m=\u001b[39;49m\u001b[43mgene_name\u001b[49m\u001b[43m,\u001b[49m\u001b[43m \u001b[49m\u001b[43mtestset\u001b[49m\u001b[38;5;241;43m=\u001b[39;49m\u001b[43mtest_set\u001b[49m\u001b[43m)\u001b[49m\n",
      "File \u001b[0;32m/opt/conda/envs/multiDGD-env/lib/python3.9/site-packages/multiDGD/_dgd.py:770\u001b[0m, in \u001b[0;36mDGD.gene2peak\u001b[0;34m(self, gene_name, testset, gene_ref)\u001b[0m\n\u001b[1;32m    768\u001b[0m gene_id \u001b[38;5;241m=\u001b[39m np\u001b[38;5;241m.\u001b[39mwhere(gene_ref \u001b[38;5;241m==\u001b[39m gene_name)[\u001b[38;5;241m0\u001b[39m][\u001b[38;5;241m0\u001b[39m]\n\u001b[1;32m    769\u001b[0m predictions_original_gene, predictions_upregulated_gene, indices_of_interest_gene \u001b[38;5;241m=\u001b[39m predict_perturbations(\u001b[38;5;28mself\u001b[39m, testset, gene_id)\n\u001b[0;32m--> 770\u001b[0m predicted_changes \u001b[38;5;241m=\u001b[39m [(predictions_upregulated_gene[i] \u001b[38;5;241m-\u001b[39m predictions_original_gene[i]) \u001b[38;5;28;01mfor\u001b[39;00m i \u001b[38;5;129;01min\u001b[39;00m \u001b[38;5;28mrange\u001b[39m(\u001b[38;5;28mlen\u001b[39m(\u001b[38;5;28mself\u001b[39m\u001b[38;5;241m.\u001b[39mtrain_set\u001b[38;5;241m.\u001b[39mmodalities))]\n\u001b[1;32m    771\u001b[0m \u001b[38;5;28;01mreturn\u001b[39;00m predicted_changes, indices_of_interest_gene\n",
      "File \u001b[0;32m/opt/conda/envs/multiDGD-env/lib/python3.9/site-packages/multiDGD/_dgd.py:770\u001b[0m, in \u001b[0;36m<listcomp>\u001b[0;34m(.0)\u001b[0m\n\u001b[1;32m    768\u001b[0m gene_id \u001b[38;5;241m=\u001b[39m np\u001b[38;5;241m.\u001b[39mwhere(gene_ref \u001b[38;5;241m==\u001b[39m gene_name)[\u001b[38;5;241m0\u001b[39m][\u001b[38;5;241m0\u001b[39m]\n\u001b[1;32m    769\u001b[0m predictions_original_gene, predictions_upregulated_gene, indices_of_interest_gene \u001b[38;5;241m=\u001b[39m predict_perturbations(\u001b[38;5;28mself\u001b[39m, testset, gene_id)\n\u001b[0;32m--> 770\u001b[0m predicted_changes \u001b[38;5;241m=\u001b[39m [(\u001b[43mpredictions_upregulated_gene\u001b[49m\u001b[43m[\u001b[49m\u001b[43mi\u001b[49m\u001b[43m]\u001b[49m\u001b[43m \u001b[49m\u001b[38;5;241;43m-\u001b[39;49m\u001b[43m \u001b[49m\u001b[43mpredictions_original_gene\u001b[49m\u001b[43m[\u001b[49m\u001b[43mi\u001b[49m\u001b[43m]\u001b[49m) \u001b[38;5;28;01mfor\u001b[39;00m i \u001b[38;5;129;01min\u001b[39;00m \u001b[38;5;28mrange\u001b[39m(\u001b[38;5;28mlen\u001b[39m(\u001b[38;5;28mself\u001b[39m\u001b[38;5;241m.\u001b[39mtrain_set\u001b[38;5;241m.\u001b[39mmodalities))]\n\u001b[1;32m    771\u001b[0m \u001b[38;5;28;01mreturn\u001b[39;00m predicted_changes, indices_of_interest_gene\n",
      "\u001b[0;31mRuntimeError\u001b[0m: Expected all tensors to be on the same device, but found at least two devices, cuda:0 and cpu!"
     ]
    }
   ],
   "source": [
    "predicted_changes, samples_of_interest = model.gene2peak(gene_name=gene_name, testset=test_set)"
   ]
  },
  {
   "cell_type": "code",
   "execution_count": 6,
   "metadata": {},
   "outputs": [],
   "source": [
    "delta_gex = predicted_changes[0]\n",
    "delta_atac = predicted_changes[1]"
   ]
  }
 ],
 "metadata": {
  "environment": {
   "name": "common-cu110.m80",
   "type": "gcloud",
   "uri": "gcr.io/deeplearning-platform-release/base-cu110:m80"
  },
  "kernelspec": {
   "display_name": "Python (multiDGD-env)",
   "language": "python",
   "name": "multidgd-env"
  },
  "language_info": {
   "codemirror_mode": {
    "name": "ipython",
    "version": 3
   },
   "file_extension": ".py",
   "mimetype": "text/x-python",
   "name": "python",
   "nbconvert_exporter": "python",
   "pygments_lexer": "ipython3",
   "version": "3.9.16"
  }
 },
 "nbformat": 4,
 "nbformat_minor": 4
}
