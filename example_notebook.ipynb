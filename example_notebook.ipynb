{
 "cells": [
  {
   "cell_type": "code",
   "execution_count": 11,
   "metadata": {},
   "outputs": [],
   "source": [
    "import torch\n",
    "import multiDGD\n",
    "import numpy as np\n",
    "import mudata as md\n",
    "import anndata as ad\n",
    "import pandas as pd"
   ]
  },
  {
   "cell_type": "code",
   "execution_count": 3,
   "metadata": {},
   "outputs": [
    {
     "name": "stderr",
     "output_type": "stream",
     "text": [
      "/usr/local/lib/python3.10/site-packages/mudata/_core/mudata.py:578: FutureWarning: In a future version, `df.iloc[:, i] = newvals` will attempt to set the values inplace instead of always setting a new array. To retain the old behavior, use either `df[df.columns[i]] = newvals` or, if columns are non-unique, `df.isetitem(i, newvals)`\n",
      "  data_mod.loc[:, colname] = col\n",
      "/usr/local/lib/python3.10/site-packages/mudata/_core/mudata.py:578: FutureWarning: In a future version, `df.iloc[:, i] = newvals` will attempt to set the values inplace instead of always setting a new array. To retain the old behavior, use either `df[df.columns[i]] = newvals` or, if columns are non-unique, `df.isetitem(i, newvals)`\n",
      "  data_mod.loc[:, colname] = col\n"
     ]
    },
    {
     "data": {
      "text/html": [
       "<pre>MuData object with n_obs × n_vars = 3143 × 110849\n",
       "  obs:\t&#x27;celltype&#x27;\n",
       "  var:\t&#x27;name&#x27;, &#x27;modality&#x27;\n",
       "  2 modalities\n",
       "    rna:\t3143 x 15172\n",
       "      obs:\t&#x27;ID&#x27;, &#x27;rna_celltype&#x27;, &#x27;atac_celltype&#x27;\n",
       "      var:\t&#x27;name&#x27;, &#x27;modality&#x27;\n",
       "    atac:\t3143 x 95677\n",
       "      obs:\t&#x27;ID&#x27;, &#x27;rna_celltype&#x27;, &#x27;atac_celltype&#x27;\n",
       "      var:\t&#x27;name&#x27;, &#x27;modality&#x27;</pre>"
      ],
      "text/plain": [
       "MuData object with n_obs × n_vars = 3143 × 110849\n",
       "  obs:\t'celltype'\n",
       "  var:\t'name', 'modality'\n",
       "  2 modalities\n",
       "    rna:\t3143 x 15172\n",
       "      obs:\t'ID', 'rna_celltype', 'atac_celltype'\n",
       "      var:\t'name', 'modality'\n",
       "    atac:\t3143 x 95677\n",
       "      obs:\t'ID', 'rna_celltype', 'atac_celltype'\n",
       "      var:\t'name', 'modality'"
      ]
     },
     "execution_count": 3,
     "metadata": {},
     "output_type": "execute_result"
    }
   ],
   "source": [
    "# load our test data \n",
    "\n",
    "data = md.read(\"data/human_brain/mudata.h5mu\", backed=False)\n",
    "data"
   ]
  },
  {
   "cell_type": "code",
   "execution_count": 17,
   "metadata": {},
   "outputs": [],
   "source": [
    "# set up data (not just anndata but also allowing mudata)\n",
    "# otherwise keep simple to multivi function\n",
    "data = multiDGD.functions._data.setup_data(data, observable_key='celltype')"
   ]
  },
  {
   "cell_type": "code",
   "execution_count": 21,
   "metadata": {},
   "outputs": [
    {
     "data": {
      "text/html": [
       "<pre>MuData object with n_obs × n_vars = 3143 × 110849\n",
       "  obs:\t&#x27;celltype&#x27;, &#x27;observable&#x27;, &#x27;train_val_test&#x27;\n",
       "  var:\t&#x27;name&#x27;, &#x27;modality&#x27;\n",
       "  2 modalities\n",
       "    rna:\t3143 x 15172\n",
       "      obs:\t&#x27;ID&#x27;, &#x27;rna_celltype&#x27;, &#x27;atac_celltype&#x27;\n",
       "      var:\t&#x27;name&#x27;, &#x27;modality&#x27;\n",
       "    atac:\t3143 x 95677\n",
       "      obs:\t&#x27;ID&#x27;, &#x27;rna_celltype&#x27;, &#x27;atac_celltype&#x27;\n",
       "      var:\t&#x27;name&#x27;, &#x27;modality&#x27;</pre>"
      ],
      "text/plain": [
       "MuData object with n_obs × n_vars = 3143 × 110849\n",
       "  obs:\t'celltype', 'observable', 'train_val_test'\n",
       "  var:\t'name', 'modality'\n",
       "  2 modalities\n",
       "    rna:\t3143 x 15172\n",
       "      obs:\t'ID', 'rna_celltype', 'atac_celltype'\n",
       "      var:\t'name', 'modality'\n",
       "    atac:\t3143 x 95677\n",
       "      obs:\t'ID', 'rna_celltype', 'atac_celltype'\n",
       "      var:\t'name', 'modality'"
      ]
     },
     "execution_count": 21,
     "metadata": {},
     "output_type": "execute_result"
    }
   ],
   "source": [
    "data"
   ]
  },
  {
   "cell_type": "code",
   "execution_count": null,
   "metadata": {},
   "outputs": [],
   "source": [
    "\n",
    "\n",
    "model = multiDGD.DGD() # keep more automated than multivi\n",
    "\n",
    "model.view_data_setup()\n",
    "\n",
    "model.train(n_epochs=100)"
   ]
  }
 ],
 "metadata": {
  "kernelspec": {
   "display_name": "Python 3",
   "language": "python",
   "name": "python3"
  },
  "language_info": {
   "codemirror_mode": {
    "name": "ipython",
    "version": 3
   },
   "file_extension": ".py",
   "mimetype": "text/x-python",
   "name": "python",
   "nbconvert_exporter": "python",
   "pygments_lexer": "ipython3",
   "version": "3.10.11"
  },
  "orig_nbformat": 4
 },
 "nbformat": 4,
 "nbformat_minor": 2
}
