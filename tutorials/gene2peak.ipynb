{
 "cells": [
  {
   "cell_type": "markdown",
   "metadata": {},
   "source": [
    "## multiDGD - gene2peak perturbation example"
   ]
  },
  {
   "cell_type": "code",
   "execution_count": 6,
   "metadata": {},
   "outputs": [],
   "source": [
    "import multiDGD\n",
    "import numpy as np\n",
    "import anndata as ad"
   ]
  },
  {
   "cell_type": "markdown",
   "metadata": {},
   "source": [
    "## Load a pre-trained model\n",
    "\n",
    "See [example_adata_bonemarrow](https://github.com/Center-for-Health-Data-Science/multiDGD/blob/main/tutorials/example_adata_bonemarrow.ipynb) tutorial."
   ]
  },
  {
   "cell_type": "code",
   "execution_count": 3,
   "metadata": {},
   "outputs": [
    {
     "name": "stdout",
     "output_type": "stream",
     "text": [
      "Covariate model initialized as:\n",
      "\n",
      "        Gaussian_mix_compture:\n",
      "            Dimensionality: 2\n",
      "            Number of components: 4\n",
      "        \n",
      "#######################\n",
      "Training status\n",
      "#######################\n",
      "True\n"
     ]
    }
   ],
   "source": [
    "# Load data\n",
    "data = ad.read_h5ad('./example_data.h5ad')\n",
    "\n",
    "# load model from the saved checkpoint\n",
    "# (has to be trained on test data)\n",
    "model = multiDGD.DGD.load(data=data, save_dir='./models/', model_name='dgd_bonemarrow_default')"
   ]
  },
  {
   "cell_type": "markdown",
   "metadata": {},
   "source": [
    "### Gene2Peak\n",
    "\n",
    "This feature performs in silico perturbations on the specified gene and predicts the changes in prediction on all output features.\n",
    "\n",
    "Currently, we only support this being performed on the test data. See the tutorial on training and testing an anndata object for details on the model and test data.\n",
    "\n",
    "Right now the perturbations only consist of silencing of the given gene. Thus, a negative predicted change suggests a positive correlation."
   ]
  },
  {
   "cell_type": "code",
   "execution_count": 4,
   "metadata": {},
   "outputs": [],
   "source": [
    "# specify the gene we want to look at\n",
    "gene_name = \"ID2\"\n",
    "\n",
    "# and the samples we want to look at\n",
    "test_set = data[data.obs[\"train_val_test\"] == \"test\",:].copy()"
   ]
  },
  {
   "cell_type": "code",
   "execution_count": null,
   "metadata": {},
   "outputs": [],
   "source": [
    "predicted_changes, samples_of_interest = model.gene2peak(gene_name=gene_name, testset=test_set)"
   ]
  },
  {
   "cell_type": "code",
   "execution_count": 6,
   "metadata": {},
   "outputs": [],
   "source": [
    "delta_gex = predicted_changes[0]\n",
    "delta_atac = predicted_changes[1]"
   ]
  }
 ],
 "metadata": {
  "environment": {
   "name": "common-cu110.m80",
   "type": "gcloud",
   "uri": "gcr.io/deeplearning-platform-release/base-cu110:m80"
  },
  "kernelspec": {
   "display_name": "Python (multiDGD-env)",
   "language": "python",
   "name": "multidgd-env"
  },
  "language_info": {
   "codemirror_mode": {
    "name": "ipython",
    "version": 3
   },
   "file_extension": ".py",
   "mimetype": "text/x-python",
   "name": "python",
   "nbconvert_exporter": "python",
   "pygments_lexer": "ipython3",
   "version": "3.9.16"
  }
 },
 "nbformat": 4,
 "nbformat_minor": 4
}
