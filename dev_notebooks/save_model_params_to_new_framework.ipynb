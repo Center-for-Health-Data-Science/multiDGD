{
 "cells": [
  {
   "cell_type": "code",
   "execution_count": 1,
   "metadata": {},
   "outputs": [],
   "source": [
    "# some imports we will need in this example\n",
    "\n",
    "import multiDGD\n",
    "import numpy as np\n",
    "import anndata as ad\n",
    "import scanpy as sc\n",
    "import pandas as pd"
   ]
  },
  {
   "cell_type": "code",
   "execution_count": 2,
   "metadata": {},
   "outputs": [],
   "source": [
    "save_dir = \"../tutorials/\""
   ]
  },
  {
   "attachments": {},
   "cell_type": "markdown",
   "metadata": {},
   "source": [
    "### here I created an anndata object that has the train-val-test split I used"
   ]
  },
  {
   "cell_type": "code",
   "execution_count": 3,
   "metadata": {},
   "outputs": [
    {
     "name": "stdout",
     "output_type": "stream",
     "text": [
      "  (0, 45)\t1.0\n",
      "  (0, 68)\t1.0\n",
      "  (0, 70)\t1.0\n",
      "  (0, 77)\t1.0\n",
      "  (0, 80)\t1.0\n",
      "  (0, 84)\t2.0\n",
      "  (0, 92)\t1.0\n",
      "  (0, 112)\t3.0\n",
      "  (0, 153)\t1.0\n",
      "  (0, 180)\t4.0\n",
      "  (0, 197)\t2.0\n",
      "  (0, 222)\t1.0\n",
      "  (0, 235)\t2.0\n",
      "  (0, 254)\t1.0\n",
      "  (0, 263)\t1.0\n",
      "  (0, 266)\t1.0\n",
      "  (0, 284)\t2.0\n",
      "  (0, 290)\t1.0\n",
      "  (0, 307)\t1.0\n",
      "  (0, 330)\t1.0\n",
      "  (0, 333)\t1.0\n",
      "  (0, 349)\t1.0\n",
      "  (0, 355)\t2.0\n",
      "  (0, 377)\t1.0\n",
      "  (0, 384)\t1.0\n",
      "  :\t:\n",
      "  (9, 128814)\t2.0\n",
      "  (9, 128837)\t2.0\n",
      "  (9, 128859)\t2.0\n",
      "  (9, 128895)\t2.0\n",
      "  (9, 128908)\t2.0\n",
      "  (9, 128911)\t2.0\n",
      "  (9, 129030)\t2.0\n",
      "  (9, 129039)\t2.0\n",
      "  (9, 129128)\t2.0\n",
      "  (9, 129178)\t2.0\n",
      "  (9, 129220)\t2.0\n",
      "  (9, 129363)\t2.0\n",
      "  (9, 129389)\t2.0\n",
      "  (9, 129399)\t2.0\n",
      "  (9, 129539)\t4.0\n",
      "  (9, 129691)\t2.0\n",
      "  (9, 129775)\t2.0\n",
      "  (9, 129783)\t2.0\n",
      "  (9, 129808)\t2.0\n",
      "  (9, 129838)\t1.0\n",
      "  (9, 129854)\t2.0\n",
      "  (9, 129856)\t2.0\n",
      "  (9, 129871)\t2.0\n",
      "  (9, 129899)\t2.0\n",
      "  (9, 129917)\t2.0\n"
     ]
    }
   ],
   "source": [
    "#\"\"\"\n",
    "# load the data and save it in the new format\n",
    "data = ad.read_h5ad(\n",
    "    save_dir\n",
    "    + \"data/human_bonemarrow/GSE194122_openproblems_neurips2021_multiome_BMMC_processed.h5ad\"\n",
    ")\n",
    "\n",
    "# load the train-val-test split\n",
    "is_train_df = pd.read_csv(save_dir + \"data/human_bonemarrow/train_val_test_split.csv\")\n",
    "# the old one used other terms so we need to replace them\n",
    "# replace all 'test' with 'validation'\n",
    "is_train_df[\"is_train\"] = is_train_df[\"is_train\"].replace(\"test\", \"validation\")\n",
    "# replace all 'iid_holdout' with 'test'\n",
    "is_train_df[\"is_train\"] = is_train_df[\"is_train\"].replace(\"iid_holdout\", \"test\")\n",
    "# add this to the data object\n",
    "data.obs[\"train_val_test\"] = is_train_df[\"is_train\"].values\n",
    "\n",
    "# prepare data set for model\n",
    "data = multiDGD.functions._data.setup_data(\n",
    "    data,\n",
    "    modality_key=\"feature_types\",\n",
    "    observable_key=\"cell_type\",\n",
    "    covariate_keys=[\"Site\"],\n",
    "    layer='counts'\n",
    ")\n",
    "del data.layers['counts']\n",
    "print(data.X[:10])\n",
    "# save this data to keep the train-val-test split for later\n",
    "data.write_h5ad(\n",
    "    save_dir\n",
    "    + \"data/human_bonemarrow/GSE194122_openproblems_neurips2021_multiome_BMMC_processed_withDataSplit.h5ad\"\n",
    ")\n",
    "#\"\"\""
   ]
  },
  {
   "cell_type": "code",
   "execution_count": 4,
   "metadata": {},
   "outputs": [
    {
     "name": "stdout",
     "output_type": "stream",
     "text": [
      "  (0, 45)\t1.0\n",
      "  (0, 68)\t1.0\n",
      "  (0, 70)\t1.0\n",
      "  (0, 77)\t1.0\n",
      "  (0, 80)\t1.0\n",
      "  (0, 84)\t2.0\n",
      "  (0, 92)\t1.0\n",
      "  (0, 112)\t3.0\n",
      "  (0, 153)\t1.0\n",
      "  (0, 180)\t4.0\n",
      "  (0, 197)\t2.0\n",
      "  (0, 222)\t1.0\n",
      "  (0, 235)\t2.0\n",
      "  (0, 254)\t1.0\n",
      "  (0, 263)\t1.0\n",
      "  (0, 266)\t1.0\n",
      "  (0, 284)\t2.0\n",
      "  (0, 290)\t1.0\n",
      "  (0, 307)\t1.0\n",
      "  (0, 330)\t1.0\n",
      "  (0, 333)\t1.0\n",
      "  (0, 349)\t1.0\n",
      "  (0, 355)\t2.0\n",
      "  (0, 377)\t1.0\n",
      "  (0, 384)\t1.0\n",
      "  :\t:\n",
      "  (9, 128814)\t2.0\n",
      "  (9, 128837)\t2.0\n",
      "  (9, 128859)\t2.0\n",
      "  (9, 128895)\t2.0\n",
      "  (9, 128908)\t2.0\n",
      "  (9, 128911)\t2.0\n",
      "  (9, 129030)\t2.0\n",
      "  (9, 129039)\t2.0\n",
      "  (9, 129128)\t2.0\n",
      "  (9, 129178)\t2.0\n",
      "  (9, 129220)\t2.0\n",
      "  (9, 129363)\t2.0\n",
      "  (9, 129389)\t2.0\n",
      "  (9, 129399)\t2.0\n",
      "  (9, 129539)\t4.0\n",
      "  (9, 129691)\t2.0\n",
      "  (9, 129775)\t2.0\n",
      "  (9, 129783)\t2.0\n",
      "  (9, 129808)\t2.0\n",
      "  (9, 129838)\t1.0\n",
      "  (9, 129854)\t2.0\n",
      "  (9, 129856)\t2.0\n",
      "  (9, 129871)\t2.0\n",
      "  (9, 129899)\t2.0\n",
      "  (9, 129917)\t2.0\n"
     ]
    }
   ],
   "source": [
    "del data.layers['counts']\n",
    "print(data.X[:10])"
   ]
  },
  {
   "cell_type": "code",
   "execution_count": 5,
   "metadata": {},
   "outputs": [],
   "source": [
    "data.write_h5ad(\n",
    "    save_dir\n",
    "    + \"data/human_bonemarrow/GSE194122_openproblems_neurips2021_multiome_BMMC_processed_withDataSplit2.h5ad\"\n",
    ")"
   ]
  },
  {
   "cell_type": "code",
   "execution_count": 2,
   "metadata": {},
   "outputs": [],
   "source": [
    "# load data and export the train_val_test to a csv file\n",
    "data = ad.read_h5ad(\n",
    "    save_dir\n",
    "    + \"data/human_bonemarrow/GSE194122_openproblems_neurips2021_multiome_BMMC_processed_withDataSplit.h5ad\"\n",
    ")"
   ]
  },
  {
   "cell_type": "code",
   "execution_count": 23,
   "metadata": {},
   "outputs": [
    {
     "name": "stdout",
     "output_type": "stream",
     "text": [
      "selected  22  number of Gaussian mixture components based on the provided observable.\n",
      "Covariate model initialized as:\n",
      "\n",
      "        Gaussian_mix_compture:\n",
      "            Dimensionality: 2\n",
      "            Number of components: 4\n",
      "        \n"
     ]
    }
   ],
   "source": [
    "model = multiDGD.DGD(\n",
    "    data=data,\n",
    "    save_dir=save_dir + \"models/\",\n",
    "    model_name=\"dgd_bonemarrow_default_trained_and_tested\",\n",
    ")"
   ]
  },
  {
   "attachments": {},
   "cell_type": "markdown",
   "metadata": {},
   "source": [
    "### access the trained model's parameters and save for this version of the model"
   ]
  },
  {
   "cell_type": "code",
   "execution_count": 31,
   "metadata": {},
   "outputs": [],
   "source": [
    "# name of the model files in ../tutorials/models/\n",
    "dgd_name = \"human_bonemarrow_l20_h2-3_test50e\"\n",
    "\n",
    "# load the parameter dictionary as an ordered dictionary\n",
    "# import collections\n",
    "import torch\n",
    "\n",
    "checkpoint = torch.load(\n",
    "    \"../tutorials/models/\" + dgd_name + \".pt\", map_location=torch.device(\"cpu\")\n",
    ")"
   ]
  },
  {
   "cell_type": "code",
   "execution_count": 26,
   "metadata": {},
   "outputs": [],
   "source": [
    "# go through every entry of the OrderedDict and assign the values to the corresponding model parameters\n",
    "for key, value in checkpoint.items():\n",
    "    # if a key is not in the model parameters, we add it\n",
    "    if key not in model.state_dict():\n",
    "        model.state_dict()[key] = value\n",
    "    else:\n",
    "        model.state_dict()[key].copy_(value)"
   ]
  },
  {
   "cell_type": "code",
   "execution_count": 30,
   "metadata": {},
   "outputs": [
    {
     "data": {
      "text/plain": [
       "tensor([[True, True, True, True, True, True, True, True, True, True, True, True,\n",
       "         True, True, True, True, True, True, True, True],\n",
       "        [True, True, True, True, True, True, True, True, True, True, True, True,\n",
       "         True, True, True, True, True, True, True, True],\n",
       "        [True, True, True, True, True, True, True, True, True, True, True, True,\n",
       "         True, True, True, True, True, True, True, True],\n",
       "        [True, True, True, True, True, True, True, True, True, True, True, True,\n",
       "         True, True, True, True, True, True, True, True],\n",
       "        [True, True, True, True, True, True, True, True, True, True, True, True,\n",
       "         True, True, True, True, True, True, True, True],\n",
       "        [True, True, True, True, True, True, True, True, True, True, True, True,\n",
       "         True, True, True, True, True, True, True, True],\n",
       "        [True, True, True, True, True, True, True, True, True, True, True, True,\n",
       "         True, True, True, True, True, True, True, True],\n",
       "        [True, True, True, True, True, True, True, True, True, True, True, True,\n",
       "         True, True, True, True, True, True, True, True],\n",
       "        [True, True, True, True, True, True, True, True, True, True, True, True,\n",
       "         True, True, True, True, True, True, True, True],\n",
       "        [True, True, True, True, True, True, True, True, True, True, True, True,\n",
       "         True, True, True, True, True, True, True, True],\n",
       "        [True, True, True, True, True, True, True, True, True, True, True, True,\n",
       "         True, True, True, True, True, True, True, True],\n",
       "        [True, True, True, True, True, True, True, True, True, True, True, True,\n",
       "         True, True, True, True, True, True, True, True],\n",
       "        [True, True, True, True, True, True, True, True, True, True, True, True,\n",
       "         True, True, True, True, True, True, True, True],\n",
       "        [True, True, True, True, True, True, True, True, True, True, True, True,\n",
       "         True, True, True, True, True, True, True, True],\n",
       "        [True, True, True, True, True, True, True, True, True, True, True, True,\n",
       "         True, True, True, True, True, True, True, True],\n",
       "        [True, True, True, True, True, True, True, True, True, True, True, True,\n",
       "         True, True, True, True, True, True, True, True],\n",
       "        [True, True, True, True, True, True, True, True, True, True, True, True,\n",
       "         True, True, True, True, True, True, True, True],\n",
       "        [True, True, True, True, True, True, True, True, True, True, True, True,\n",
       "         True, True, True, True, True, True, True, True],\n",
       "        [True, True, True, True, True, True, True, True, True, True, True, True,\n",
       "         True, True, True, True, True, True, True, True],\n",
       "        [True, True, True, True, True, True, True, True, True, True, True, True,\n",
       "         True, True, True, True, True, True, True, True],\n",
       "        [True, True, True, True, True, True, True, True, True, True, True, True,\n",
       "         True, True, True, True, True, True, True, True],\n",
       "        [True, True, True, True, True, True, True, True, True, True, True, True,\n",
       "         True, True, True, True, True, True, True, True]])"
      ]
     },
     "execution_count": 30,
     "metadata": {},
     "output_type": "execute_result"
    }
   ],
   "source": [
    "# check if it worked\n",
    "\n",
    "checkpoint[\"gmm.mean\"] == model.state_dict()[\"gmm.mean\"]"
   ]
  },
  {
   "cell_type": "code",
   "execution_count": 32,
   "metadata": {},
   "outputs": [],
   "source": [
    "# save this model\n",
    "model.save()"
   ]
  },
  {
   "cell_type": "code",
   "execution_count": 33,
   "metadata": {},
   "outputs": [
    {
     "name": "stdout",
     "output_type": "stream",
     "text": [
      "Covariate model initialized as:\n",
      "\n",
      "        Gaussian_mix_compture:\n",
      "            Dimensionality: 2\n",
      "            Number of components: 4\n",
      "        \n",
      "#######################\n",
      "Training status\n",
      "#######################\n",
      "True\n"
     ]
    }
   ],
   "source": [
    "# see if loading works\n",
    "\n",
    "model = multiDGD.DGD.load(\n",
    "    data=data,\n",
    "    save_dir=\"../tutorials/models/\",\n",
    "    model_name=\"dgd_bonemarrow_default_trained_and_tested\",\n",
    ")"
   ]
  }
 ],
 "metadata": {
  "kernelspec": {
   "display_name": "Python 3",
   "language": "python",
   "name": "python3"
  },
  "language_info": {
   "codemirror_mode": {
    "name": "ipython",
    "version": 3
   },
   "file_extension": ".py",
   "mimetype": "text/x-python",
   "name": "python",
   "nbconvert_exporter": "python",
   "pygments_lexer": "ipython3",
   "version": "3.10.11"
  },
  "orig_nbformat": 4
 },
 "nbformat": 4,
 "nbformat_minor": 2
}
