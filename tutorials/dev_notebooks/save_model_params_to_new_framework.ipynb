{
 "cells": [
  {
   "cell_type": "markdown",
   "metadata": {},
   "source": [
    "# Making models from multiDGD_paper compatible\n",
    "\n",
    "The results in the manuscript are derived from code presented in [this repo](https://github.com/Center-for-Health-Data-Science/multiDGD_paper/tree/main). Due to refactoring and making the tool easier to use, models derived from that code are not directly usable in the package.\n",
    "\n",
    "Therefore, we included this notebook to show how to convert the models to the new framework. It is not a runnable example but contains the important code chunks and steps needed."
   ]
  },
  {
   "cell_type": "markdown",
   "metadata": {},
   "source": [
    "### 1. prepare data object (see tutorials)"
   ]
  },
  {
   "cell_type": "markdown",
   "metadata": {},
   "source": [
    "### 2. initialize a model with that data (see tutorials)"
   ]
  },
  {
   "cell_type": "code",
   "execution_count": 23,
   "metadata": {},
   "outputs": [
    {
     "name": "stdout",
     "output_type": "stream",
     "text": [
      "selected  22  number of Gaussian mixture components based on the provided observable.\n",
      "Covariate model initialized as:\n",
      "\n",
      "        Gaussian_mix_compture:\n",
      "            Dimensionality: 2\n",
      "            Number of components: 4\n",
      "        \n"
     ]
    }
   ],
   "source": [
    "data = # load data\n",
    "\n",
    "model = multiDGD.DGD(\n",
    "    data=data,\n",
    "    save_dir=save_dir + \"models/\",\n",
    "    model_name=\"dgd_bonemarrow_default_trained_and_tested\",\n",
    ")"
   ]
  },
  {
   "cell_type": "markdown",
   "metadata": {},
   "source": [
    "### 3. load model parameters from old framework"
   ]
  },
  {
   "cell_type": "code",
   "execution_count": 31,
   "metadata": {},
   "outputs": [],
   "source": [
    "model_dir = \"../tutorials/models/\"\n",
    "# name of the model files in ../tutorials/models/\n",
    "dgd_name = \"human_bonemarrow_l20_h2-3_test50e\"\n",
    "\n",
    "# load the parameter dictionary as an ordered dictionary\n",
    "# import collections\n",
    "import torch\n",
    "\n",
    "checkpoint = torch.load(\n",
    "    model_dir + dgd_name + \".pt\", map_location=torch.device(\"cpu\")\n",
    ")"
   ]
  },
  {
   "cell_type": "markdown",
   "metadata": {},
   "source": [
    "***This is the important part***"
   ]
  },
  {
   "cell_type": "code",
   "execution_count": 26,
   "metadata": {},
   "outputs": [],
   "source": [
    "# go through every entry of the OrderedDict and assign the values to the corresponding model parameters\n",
    "for key, value in checkpoint.items():\n",
    "    # if a key is not in the model parameters, we add it\n",
    "    if key not in model.state_dict():\n",
    "        model.state_dict()[key] = value\n",
    "    else:\n",
    "        model.state_dict()[key].copy_(value)"
   ]
  },
  {
   "cell_type": "code",
   "execution_count": 32,
   "metadata": {},
   "outputs": [],
   "source": [
    "# save this model\n",
    "model.save()"
   ]
  },
  {
   "cell_type": "code",
   "execution_count": 33,
   "metadata": {},
   "outputs": [
    {
     "name": "stdout",
     "output_type": "stream",
     "text": [
      "Covariate model initialized as:\n",
      "\n",
      "        Gaussian_mix_compture:\n",
      "            Dimensionality: 2\n",
      "            Number of components: 4\n",
      "        \n",
      "#######################\n",
      "Training status\n",
      "#######################\n",
      "True\n"
     ]
    }
   ],
   "source": [
    "# see if loading works\n",
    "\n",
    "model = multiDGD.DGD.load(\n",
    "    data=data,\n",
    "    save_dir=\"../tutorials/models/\",\n",
    "    model_name=\"dgd_bonemarrow_default_trained_and_tested\",\n",
    ")"
   ]
  }
 ],
 "metadata": {
  "kernelspec": {
   "display_name": "Python 3",
   "language": "python",
   "name": "python3"
  },
  "language_info": {
   "codemirror_mode": {
    "name": "ipython",
    "version": 3
   },
   "file_extension": ".py",
   "mimetype": "text/x-python",
   "name": "python",
   "nbconvert_exporter": "python",
   "pygments_lexer": "ipython3",
   "version": "3.10.11"
  },
  "orig_nbformat": 4
 },
 "nbformat": 4,
 "nbformat_minor": 2
}
