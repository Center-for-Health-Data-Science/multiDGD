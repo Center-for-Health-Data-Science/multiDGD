{
 "cells": [
  {
   "attachments": {},
   "cell_type": "markdown",
   "metadata": {},
   "source": [
    "### Imports"
   ]
  },
  {
   "cell_type": "code",
   "execution_count": 1,
   "metadata": {},
   "outputs": [
    {
     "name": "stdout",
     "output_type": "stream",
     "text": [
      "Moved to project directory:  /Users/vschuste/Documents/work_KU/projects/multiDGD\n"
     ]
    },
    {
     "name": "stderr",
     "output_type": "stream",
     "text": [
      "/opt/anaconda3/envs/omics/lib/python3.10/site-packages/tqdm/auto.py:21: TqdmWarning: IProgress not found. Please update jupyter and ipywidgets. See https://ipywidgets.readthedocs.io/en/stable/user_install.html\n",
      "  from .autonotebook import tqdm as notebook_tqdm\n"
     ]
    }
   ],
   "source": [
    "# some imports we will need in this example\n",
    "import os\n",
    "import requests, zipfile\n",
    "import numpy as np\n",
    "import mudata as md\n",
    "import scanpy as sc\n",
    "\n",
    "import multiDGD\n",
    "from multiDGD.utils import *\n",
    "\n",
    "# make sure we are in the correct directory\n",
    "def switch_to_project_dir(name):\n",
    "    cwd = os.getcwd()\n",
    "    dir_hierarchy = cwd.split('/')\n",
    "    index = dir_hierarchy.index(name)\n",
    "    if index != len(dir_hierarchy) - 1:\n",
    "        os.chdir('/'.join(dir_hierarchy[:index+1]))\n",
    "        print('Moved to project directory: ', os.getcwd())\n",
    "\n",
    "switch_to_project_dir('multiDGD')"
   ]
  },
  {
   "attachments": {},
   "cell_type": "markdown",
   "metadata": {},
   "source": [
    "### Data loading and preparation\n",
    "\n",
    "Mudata objects can be used in this model just like an anndata object. Mudata objects are actually even easier to use, since the modality feature assignment does not have to be specified with the `modality_key` as for anndata objects."
   ]
  },
  {
   "cell_type": "code",
   "execution_count": null,
   "metadata": {},
   "outputs": [],
   "source": [
    "# Download\n",
    "data_dir = 'data/'\n",
    "if not os.path.exists(data_dir):\n",
    "    os.makedirs(data_dir)\n",
    "os.chdir(data_dir)\n",
    "file_name = 'mouse_gastrulation.h5mu.zip'\n",
    "file_url = 'https://api.figshare.com/v2/articles/23796198/files/41740323'\n",
    "\n",
    "if not os.path.exists(os.path.join(data_dir, file_name)):\n",
    "    print('Downloading data...')\n",
    "    file_response = requests.get(file_url).json()\n",
    "    file_download_url = file_response['download_url']\n",
    "    response = requests.get(file_download_url, stream=True)\n",
    "    with open(file_name, 'wb') as f:\n",
    "        for chunk in response.iter_content(chunk_size=8192):\n",
    "            f.write(chunk)\n",
    "\n",
    "# Unzip\n",
    "with zipfile.ZipFile(file_name, 'r') as zip_ref:\n",
    "    zip_ref.extractall('.')\n",
    "os.remove(file_name)\n",
    "os.chdir('..')"
   ]
  },
  {
   "cell_type": "code",
   "execution_count": 2,
   "metadata": {},
   "outputs": [
    {
     "name": "stderr",
     "output_type": "stream",
     "text": [
      "/opt/anaconda3/envs/omics/lib/python3.10/site-packages/mudata/_core/mudata.py:578: FutureWarning: In a future version, `df.iloc[:, i] = newvals` will attempt to set the values inplace instead of always setting a new array. To retain the old behavior, use either `df[df.columns[i]] = newvals` or, if columns are non-unique, `df.isetitem(i, newvals)`\n",
      "  data_mod.loc[:, colname] = col\n",
      "/opt/anaconda3/envs/omics/lib/python3.10/site-packages/mudata/_core/mudata.py:578: FutureWarning: In a future version, `df.iloc[:, i] = newvals` will attempt to set the values inplace instead of always setting a new array. To retain the old behavior, use either `df[df.columns[i]] = newvals` or, if columns are non-unique, `df.isetitem(i, newvals)`\n",
      "  data_mod.loc[:, colname] = col\n",
      "/opt/anaconda3/envs/omics/lib/python3.10/site-packages/multiDGD/functions/_data.py:71: ImplicitModificationWarning: Trying to modify attribute `.obs` of view, initializing view as actual.\n",
      "  data.obs['observable'] = data.obs[observable_key]\n",
      "/opt/anaconda3/envs/omics/lib/python3.10/site-packages/mudata/_core/mudata.py:578: FutureWarning: In a future version, `df.iloc[:, i] = newvals` will attempt to set the values inplace instead of always setting a new array. To retain the old behavior, use either `df[df.columns[i]] = newvals` or, if columns are non-unique, `df.isetitem(i, newvals)`\n",
      "  data_mod.loc[:, colname] = col\n",
      "/opt/anaconda3/envs/omics/lib/python3.10/site-packages/mudata/_core/mudata.py:578: FutureWarning: In a future version, `df.iloc[:, i] = newvals` will attempt to set the values inplace instead of always setting a new array. To retain the old behavior, use either `df[df.columns[i]] = newvals` or, if columns are non-unique, `df.isetitem(i, newvals)`\n",
      "  data_mod.loc[:, colname] = col\n"
     ]
    }
   ],
   "source": [
    "# load some test data\n",
    "\n",
    "# this is an example mudata object\n",
    "data = md.read(\"./data/mouse_gastrulation.h5mu\", backed=False)\n",
    "data = data[::5,:]\n",
    "# set it up with the model (similar to MultiVI)\n",
    "# but we support both anndata and mudata objects\n",
    "data = multiDGD.functions._data.setup_data(data, observable_key='celltype', covariate_keys=['stage'])"
   ]
  },
  {
   "attachments": {},
   "cell_type": "markdown",
   "metadata": {},
   "source": [
    "Otherwise everyhing is the same as for modeling anndata objects."
   ]
  }
 ],
 "metadata": {
  "kernelspec": {
   "display_name": "omics",
   "language": "python",
   "name": "python3"
  },
  "language_info": {
   "codemirror_mode": {
    "name": "ipython",
    "version": 3
   },
   "file_extension": ".py",
   "mimetype": "text/x-python",
   "name": "python",
   "nbconvert_exporter": "python",
   "pygments_lexer": "ipython3",
   "version": "3.10.16"
  },
  "orig_nbformat": 4
 },
 "nbformat": 4,
 "nbformat_minor": 2
}
