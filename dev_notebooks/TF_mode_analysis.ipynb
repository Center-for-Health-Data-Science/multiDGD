{
 "cells": [
  {
   "cell_type": "markdown",
   "id": "prime-acoustic",
   "metadata": {},
   "source": [
    "## Repressors / Activators analysis"
   ]
  },
  {
   "cell_type": "code",
   "execution_count": 8,
   "id": "present-elephant",
   "metadata": {},
   "outputs": [
    {
     "name": "stdout",
     "output_type": "stream",
     "text": [
      "Collecting bioframe\n",
      "  Using cached bioframe-0.4.1-py2.py3-none-any.whl (114 kB)\n",
      "Requirement already satisfied: numpy>=1.10 in /home/jovyan/my-conda-envs/multiDGD-env/lib/python3.10/site-packages (from bioframe) (1.24.3)\n",
      "Requirement already satisfied: matplotlib in /home/jovyan/my-conda-envs/multiDGD-env/lib/python3.10/site-packages (from bioframe) (3.7.1)\n",
      "Requirement already satisfied: pandas>=1.3 in /home/jovyan/my-conda-envs/multiDGD-env/lib/python3.10/site-packages (from bioframe) (2.0.2)\n",
      "Requirement already satisfied: requests in /home/jovyan/my-conda-envs/multiDGD-env/lib/python3.10/site-packages (from bioframe) (2.31.0)\n",
      "Requirement already satisfied: python-dateutil>=2.8.2 in /home/jovyan/my-conda-envs/multiDGD-env/lib/python3.10/site-packages (from pandas>=1.3->bioframe) (2.8.2)\n",
      "Requirement already satisfied: pytz>=2020.1 in /home/jovyan/my-conda-envs/multiDGD-env/lib/python3.10/site-packages (from pandas>=1.3->bioframe) (2023.3)\n",
      "Requirement already satisfied: tzdata>=2022.1 in /home/jovyan/my-conda-envs/multiDGD-env/lib/python3.10/site-packages (from pandas>=1.3->bioframe) (2023.3)\n",
      "Requirement already satisfied: contourpy>=1.0.1 in /home/jovyan/my-conda-envs/multiDGD-env/lib/python3.10/site-packages (from matplotlib->bioframe) (1.0.7)\n",
      "Requirement already satisfied: cycler>=0.10 in /home/jovyan/my-conda-envs/multiDGD-env/lib/python3.10/site-packages (from matplotlib->bioframe) (0.11.0)\n",
      "Requirement already satisfied: fonttools>=4.22.0 in /home/jovyan/my-conda-envs/multiDGD-env/lib/python3.10/site-packages (from matplotlib->bioframe) (4.39.4)\n",
      "Requirement already satisfied: kiwisolver>=1.0.1 in /home/jovyan/my-conda-envs/multiDGD-env/lib/python3.10/site-packages (from matplotlib->bioframe) (1.4.4)\n",
      "Requirement already satisfied: packaging>=20.0 in /home/jovyan/my-conda-envs/multiDGD-env/lib/python3.10/site-packages (from matplotlib->bioframe) (23.1)\n",
      "Requirement already satisfied: pillow>=6.2.0 in /home/jovyan/my-conda-envs/multiDGD-env/lib/python3.10/site-packages (from matplotlib->bioframe) (9.5.0)\n",
      "Requirement already satisfied: pyparsing>=2.3.1 in /home/jovyan/my-conda-envs/multiDGD-env/lib/python3.10/site-packages (from matplotlib->bioframe) (3.0.9)\n",
      "Requirement already satisfied: charset-normalizer<4,>=2 in /home/jovyan/my-conda-envs/multiDGD-env/lib/python3.10/site-packages (from requests->bioframe) (3.1.0)\n",
      "Requirement already satisfied: idna<4,>=2.5 in /home/jovyan/my-conda-envs/multiDGD-env/lib/python3.10/site-packages (from requests->bioframe) (3.4)\n",
      "Requirement already satisfied: urllib3<3,>=1.21.1 in /home/jovyan/my-conda-envs/multiDGD-env/lib/python3.10/site-packages (from requests->bioframe) (2.0.3)\n",
      "Requirement already satisfied: certifi>=2017.4.17 in /home/jovyan/my-conda-envs/multiDGD-env/lib/python3.10/site-packages (from requests->bioframe) (2023.5.7)\n",
      "Requirement already satisfied: six>=1.5 in /home/jovyan/my-conda-envs/multiDGD-env/lib/python3.10/site-packages (from python-dateutil>=2.8.2->pandas>=1.3->bioframe) (1.16.0)\n",
      "Installing collected packages: bioframe\n",
      "Successfully installed bioframe-0.4.1\n",
      "Note: you may need to restart the kernel to use updated packages.\n"
     ]
    }
   ],
   "source": [
    "pip install bioframe"
   ]
  },
  {
   "cell_type": "code",
   "execution_count": 1,
   "id": "adaptive-vietnamese",
   "metadata": {},
   "outputs": [],
   "source": [
    "import os,sys\n",
    "import multiDGD\n",
    "import numpy as np\n",
    "import pandas as pd\n",
    "#import mudata as md\n",
    "import anndata as ad"
   ]
  },
  {
   "cell_type": "code",
   "execution_count": 2,
   "id": "recorded-infrared",
   "metadata": {},
   "outputs": [
    {
     "data": {
      "text/plain": [
       "['GSE194122_openproblems_neurips2021_multiome_BMMC_processed_withDataSplit.gene_names.csv',\n",
       " 'GSE194122_openproblems_neurips2021_multiome_BMMC_processed_withDataSplit.h5ad',\n",
       " 'GSE194122_openproblems_neurips2021_multiome_BMMC_processed_withDataSplit.h5ad.zip',\n",
       " 'GSE194122_openproblems_neurips2021_multiome_BMMC_processed_withDataSplit.peaks.csv',\n",
       " 'bonemarrow_atac_prediction',\n",
       " 'dgd_bonemarrow_default_trained_and_tested.pt',\n",
       " 'dgd_bonemarrow_default_trained_and_tested_hyperparameters.json',\n",
       " 'notebooks']"
      ]
     },
     "execution_count": 2,
     "metadata": {},
     "output_type": "execute_result"
    }
   ],
   "source": [
    "# load some test data\n",
    "model_dir = '/home/jovyan/mount/gdrive/DGD_multiomics/data/bonemarrow_model/'\n",
    "os.listdir(model_dir)"
   ]
  },
  {
   "cell_type": "code",
   "execution_count": 3,
   "id": "experimental-stereo",
   "metadata": {},
   "outputs": [],
   "source": [
    "data = ad.read_h5ad(model_dir + 'GSE194122_openproblems_neurips2021_multiome_BMMC_processed_withDataSplit.h5ad', backed=True)"
   ]
  },
  {
   "cell_type": "markdown",
   "id": "median-bradley",
   "metadata": {},
   "source": [
    "## Get genomic ranges of peaks"
   ]
  },
  {
   "cell_type": "code",
   "execution_count": 6,
   "id": "wooden-monster",
   "metadata": {},
   "outputs": [],
   "source": [
    "def _bioframe_from_strings(pos_list: pd.Series):\n",
    "    \"\"\"\n",
    "    Function to create bioframe compatible table from string of genomic position\n",
    "    \"\"\"\n",
    "    # Chromosome and positions\n",
    "    chr = pos_list.str.split(':').str.get(0)\n",
    "    start = pd.Series(pos_list.str.split(':').str.get(1)\n",
    "                      ).str.split('-').str.get(0)\n",
    "    end = pd.Series(pos_list.str.split(':').str.get(1)\n",
    "                    ).str.split('-').str.get(1)\n",
    "\n",
    "    # Create ranges\n",
    "    bioframe_df = pd.concat([chr, start, end], axis=1)\n",
    "    bioframe_df.columns = ['chrom', 'start', 'end']\n",
    "    bioframe_df.loc[:,['start', 'end']] = bioframe_df.loc[:,['start', 'end']].astype(int)\n",
    "    return bioframe_df.convert_dtypes()\n",
    "\n",
    "# Get ranges of all peaks\n",
    "pos_list = data.var[data.var['feature_types'] == 'ATAC'].index.tolist()\n",
    "pos_list = pd.Series(pos_list).str.replace(\"-\", \":\", 1)\n",
    "peaks_df = _bioframe_from_strings(pos_list)\n",
    "peaks_df['name'] = '.'\n",
    "peaks_df.columns = peaks_df.columns.astype('str')"
   ]
  },
  {
   "cell_type": "code",
   "execution_count": 7,
   "id": "alleged-government",
   "metadata": {},
   "outputs": [],
   "source": [
    "peaks_df.to_csv(model_dir + 'GSE194122_openproblems_neurips2021_multiome_BMMC_processed_withDataSplit.peaks.csv')"
   ]
  },
  {
   "cell_type": "code",
   "execution_count": null,
   "id": "weighted-crest",
   "metadata": {},
   "outputs": [],
   "source": [
    "## Save gene names\n",
    "gene_names = data.var[data.var['feature_types'] == 'GEX']\n",
    "gene_names.to_csv(model_dir + 'GSE194122_openproblems_neurips2021_multiome_BMMC_processed_withDataSplit.gene_names.csv')"
   ]
  },
  {
   "cell_type": "code",
   "execution_count": 3,
   "id": "peripheral-target",
   "metadata": {},
   "outputs": [],
   "source": [
    "peaks_df = pd.read_csv(model_dir + 'GSE194122_openproblems_neurips2021_multiome_BMMC_processed_withDataSplit.peaks.csv', index_col=0)\n",
    "gene_names = pd.read_csv(model_dir + 'GSE194122_openproblems_neurips2021_multiome_BMMC_processed_withDataSplit.gene_names.csv', index_col=0) "
   ]
  },
  {
   "cell_type": "code",
   "execution_count": 5,
   "id": "appropriate-while",
   "metadata": {},
   "outputs": [
    {
     "data": {
      "text/plain": [
       "Index(['AL627309.5', 'LINC01409', 'LINC01128', 'NOC2L', 'KLHL17', 'ISG15',\n",
       "       'C1orf159', 'SDF4', 'B3GALT6', 'UBE2J2',\n",
       "       ...\n",
       "       'MT-ATP6', 'MT-CO3', 'MT-ND3', 'MT-ND4L', 'MT-ND4', 'MT-ND5', 'MT-ND6',\n",
       "       'MT-CYB', 'AL592183.1', 'AC240274.1'],\n",
       "      dtype='object', length=13431)"
      ]
     },
     "execution_count": 5,
     "metadata": {},
     "output_type": "execute_result"
    }
   ],
   "source": [
    "gene_names.index"
   ]
  },
  {
   "cell_type": "markdown",
   "id": "quantitative-arrangement",
   "metadata": {},
   "source": [
    "## Get genomic ranges of TF motifs"
   ]
  },
  {
   "cell_type": "code",
   "execution_count": 6,
   "id": "modern-jones",
   "metadata": {},
   "outputs": [],
   "source": [
    "import pandas as pd\n",
    "import bioframe\n",
    "from pyjaspar import jaspardb"
   ]
  },
  {
   "cell_type": "code",
   "execution_count": 12,
   "id": "underlying-family",
   "metadata": {},
   "outputs": [
    {
     "data": {
      "text/html": [
       "<div>\n",
       "<style scoped>\n",
       "    .dataframe tbody tr th:only-of-type {\n",
       "        vertical-align: middle;\n",
       "    }\n",
       "\n",
       "    .dataframe tbody tr th {\n",
       "        vertical-align: top;\n",
       "    }\n",
       "\n",
       "    .dataframe thead th {\n",
       "        text-align: right;\n",
       "    }\n",
       "</style>\n",
       "<table border=\"1\" class=\"dataframe\">\n",
       "  <thead>\n",
       "    <tr style=\"text-align: right;\">\n",
       "      <th></th>\n",
       "      <th>Transcription_factor</th>\n",
       "      <th>GO_term_mode_of_action</th>\n",
       "    </tr>\n",
       "  </thead>\n",
       "  <tbody>\n",
       "    <tr>\n",
       "      <th>0</th>\n",
       "      <td>GFI1B</td>\n",
       "      <td>Repressor</td>\n",
       "    </tr>\n",
       "    <tr>\n",
       "      <th>1</th>\n",
       "      <td>BACH2</td>\n",
       "      <td>Repressor</td>\n",
       "    </tr>\n",
       "    <tr>\n",
       "      <th>2</th>\n",
       "      <td>PBX2</td>\n",
       "      <td>Activator</td>\n",
       "    </tr>\n",
       "    <tr>\n",
       "      <th>4</th>\n",
       "      <td>ARID5A</td>\n",
       "      <td>Repressor</td>\n",
       "    </tr>\n",
       "    <tr>\n",
       "      <th>6</th>\n",
       "      <td>HESX1</td>\n",
       "      <td>Repressor</td>\n",
       "    </tr>\n",
       "    <tr>\n",
       "      <th>...</th>\n",
       "      <td>...</td>\n",
       "      <td>...</td>\n",
       "    </tr>\n",
       "    <tr>\n",
       "      <th>222</th>\n",
       "      <td>PLAG1</td>\n",
       "      <td>Activator</td>\n",
       "    </tr>\n",
       "    <tr>\n",
       "      <th>230</th>\n",
       "      <td>RFX3</td>\n",
       "      <td>Activator</td>\n",
       "    </tr>\n",
       "    <tr>\n",
       "      <th>235</th>\n",
       "      <td>CEBPD</td>\n",
       "      <td>Activator</td>\n",
       "    </tr>\n",
       "    <tr>\n",
       "      <th>240</th>\n",
       "      <td>SRF</td>\n",
       "      <td>Activator</td>\n",
       "    </tr>\n",
       "    <tr>\n",
       "      <th>241</th>\n",
       "      <td>FOSL2</td>\n",
       "      <td>Activator</td>\n",
       "    </tr>\n",
       "  </tbody>\n",
       "</table>\n",
       "<p>112 rows × 2 columns</p>\n",
       "</div>"
      ],
      "text/plain": [
       "    Transcription_factor GO_term_mode_of_action\n",
       "0                  GFI1B              Repressor\n",
       "1                  BACH2              Repressor\n",
       "2                   PBX2              Activator\n",
       "4                 ARID5A              Repressor\n",
       "6                  HESX1              Repressor\n",
       "..                   ...                    ...\n",
       "222                PLAG1              Activator\n",
       "230                 RFX3              Activator\n",
       "235                CEBPD              Activator\n",
       "240                  SRF              Activator\n",
       "241                FOSL2              Activator\n",
       "\n",
       "[112 rows x 2 columns]"
      ]
     },
     "execution_count": 12,
     "metadata": {},
     "output_type": "execute_result"
    }
   ],
   "source": [
    "## Read list of repressors/activators\n",
    "tf_df = pd.read_table('/home/jovyan/mount/gdrive/DGD_multiomics/data/TF_mode_domcke_2020.txt')\n",
    "tf_df = tf_df[tf_df.Transcription_factor.isin(gene_names.index)].copy()\n",
    "tf_df"
   ]
  },
  {
   "cell_type": "code",
   "execution_count": 13,
   "id": "enhanced-snowboard",
   "metadata": {},
   "outputs": [],
   "source": [
    "JASPAR_URL = 'http://expdata.cmmt.ubc.ca/JASPAR/downloads/UCSC_tracks/2022/hg38/'\n",
    "CHROMS = [str(x) for x in range(1,23)] + ['X', 'Y']\n",
    "CHROMS = ['chr'+x for x in CHROMS]\n",
    "\n",
    "jdb_obj = jaspardb(release='JASPAR2022')\n",
    "\n",
    "def get_TF_matches(args) -> pd.DataFrame:\n",
    "    '''\n",
    "    Get TF motif matches for each peak using bioframe\n",
    "    '''\n",
    "    peaks_df, tf_name = args\n",
    "    # Get IDs for TF motifs\n",
    "    tf_ids = [m.matrix_id for m in jdb_obj.fetch_motifs_by_name(tf_name)]\n",
    "    if len([t for t in tf_ids if t.startswith(\"MA\")]) == 0:\n",
    "        raise ValueError(f'No motifs found for TF {tf_name}')\n",
    "        \n",
    "    # Load TF motifs ranges\n",
    "    motifs_df = pd.DataFrame()\n",
    "    for tf_id in tf_ids:\n",
    "        if tf_id.startswith('MA'):\n",
    "            file_url = f'{JASPAR_URL}/{tf_id}.tsv.gz'\n",
    "            jaspar_df = bioframe.read_table(file_url, schema='jaspar',skiprows=1)\n",
    "            motifs_df = pd.concat([motifs_df, jaspar_df])\n",
    "\n",
    "    # Clean up\n",
    "    motifs_df = motifs_df[motifs_df.chrom.isin(CHROMS)]\n",
    "    motifs_df = motifs_df[['chrom', 'start', 'end', 'name']].drop_duplicates()\n",
    "    \n",
    "    ## Find overlaps\n",
    "    peaks_motif_counts = bioframe.count_overlaps(peaks_df, motifs_df)\n",
    "    peaks_motif_counts[f'{tf_name}_motifs'] = peaks_motif_counts['count'].copy()\n",
    "    peaks_motif_counts[f'{tf_name}_motifs'] = np.where(peaks_motif_counts[tf_name + '_motifs'] > 0, 1, 0)\n",
    "\n",
    "    return peaks_motif_counts[['chrom', 'start', 'end', 'name', f'{tf_name}_motifs' ]]"
   ]
  },
  {
   "cell_type": "code",
   "execution_count": null,
   "id": "engaged-installation",
   "metadata": {},
   "outputs": [
    {
     "name": "stdout",
     "output_type": "stream",
     "text": [
      "TF 1/112 - GFI1B\n",
      "TF 2/112 - BACH2\n",
      "TF 3/112 - PBX2\n",
      "TF 4/112 - ARID5A\n",
      "TF 5/112 - HESX1\n",
      "TF 6/112 - CUX1\n",
      "TF 7/112 - ARID3A\n",
      "TF 8/112 - BCL6\n",
      "TF 9/112 - VENTX\n",
      "TF 10/112 - ARID3B\n",
      "TF 11/112 - NRL\n",
      "TF 12/112 - TFAP4\n",
      "TF 13/112 - STAT4\n",
      "TF 14/112 - NFE2\n",
      "TF 15/112 - FOXJ2\n",
      "TF 16/112 - HSF2\n",
      "TF 17/112 - MECOM\n",
      "TF 18/112 - PBX3\n",
      "TF 19/112 - HLTF\n",
      "TF 20/112 - PKNOX1\n",
      "TF 21/112 - MEF2D\n",
      "TF 22/112 - NFAT5\n",
      "TF 23/112 - ARNT\n",
      "TF 24/112 - TFCP2\n",
      "TF 25/112 - NFATC1\n",
      "TF 26/112 - SPIB\n",
      "TF 27/112 - TCFL5\n",
      "TF 28/112 - MLXIP\n",
      "TF 29/112 - MXI1\n",
      "TF 30/112 - RORA\n",
      "TF 31/112 - TFEB\n",
      "TF 32/112 - KLF1\n",
      "TF 33/112 - CREB5\n",
      "TF 34/112 - TGIF1\n",
      "TF 35/112 - NR2C2\n"
     ]
    }
   ],
   "source": [
    "import gc\n",
    "\n",
    "motifs_in_peaks = pd.DataFrame()\n",
    "n_tfs = tf_df['Transcription_factor'].shape[0]\n",
    "for i,tf in enumerate(tf_df['Transcription_factor']):\n",
    "    print(f'TF {i+1}/{n_tfs} - {tf}')\n",
    "    try:\n",
    "        peaks_motif_counts = get_TF_matches((peaks_df, tf))[[f'{tf}_motifs']]\n",
    "    except ValueError:\n",
    "        continue\n",
    "    motifs_in_peaks = pd.concat([motifs_in_peaks,peaks_motif_counts ], axis=1)\n",
    "    gc.collect()\n",
    "    \n",
    "motifs_in_peaks.index = peaks_df[['chrom', 'start', 'end']].astype(str).apply(lambda x: \"-\".join(x), axis=1)\n",
    "motifs_in_peaks.write_csv(model_dir + 'GSE194122_openproblems_neurips2021_multiome_BMMC_processed_withDataSplit.motifs_in_peaks.csv')"
   ]
  },
  {
   "cell_type": "markdown",
   "id": "great-questionnaire",
   "metadata": {},
   "source": [
    "---"
   ]
  },
  {
   "cell_type": "code",
   "execution_count": null,
   "id": "solar-marshall",
   "metadata": {},
   "outputs": [],
   "source": [
    "# load model from the saved checkpoint\n",
    "model = multiDGD.DGD.load(data=data, save_dir=model_dir, model_name='dgd_bonemarrow_default_trained_and_tested')"
   ]
  },
  {
   "cell_type": "markdown",
   "id": "numeric-grant",
   "metadata": {},
   "source": [
    "### Gene2Peak\n",
    "\n",
    "This feature performs in silico perturbations on the specified gene and predicts the changes in prediction on all output features.\n",
    "\n",
    "Currently, we only support this being performed on the test data. See the tutorial on training and testing an anndata object for details on the model and test data."
   ]
  },
  {
   "cell_type": "code",
   "execution_count": 3,
   "id": "parental-newman",
   "metadata": {
    "tags": []
   },
   "outputs": [],
   "source": [
    "# specify the gene we want to look at\n",
    "gene_name = \"ID2\"\n",
    "\n",
    "# and the samples we want to look at\n",
    "test_set = data[data.obs[\"train_val_test\"] == \"test\",:].copy()"
   ]
  },
  {
   "cell_type": "code",
   "execution_count": 4,
   "id": "trained-relative",
   "metadata": {},
   "outputs": [
    {
     "name": "stdout",
     "output_type": "stream",
     "text": [
      "using 185 samples\n"
     ]
    }
   ],
   "source": [
    "predicted_changes, samples_of_interest = model.gene2peak(gene_name=gene_name, testset=test_set)"
   ]
  },
  {
   "cell_type": "code",
   "execution_count": 6,
   "id": "optical-subscription",
   "metadata": {},
   "outputs": [],
   "source": [
    "delta_gex = predicted_changes[0]\n",
    "delta_atac = predicted_changes[1]"
   ]
  }
 ],
 "metadata": {
  "kernelspec": {
   "display_name": "Python (multiDGD-env)",
   "language": "python",
   "name": "multidgd-env"
  },
  "language_info": {
   "codemirror_mode": {
    "name": "ipython",
    "version": 3
   },
   "file_extension": ".py",
   "mimetype": "text/x-python",
   "name": "python",
   "nbconvert_exporter": "python",
   "pygments_lexer": "ipython3",
   "version": "3.10.11"
  }
 },
 "nbformat": 4,
 "nbformat_minor": 5
}
