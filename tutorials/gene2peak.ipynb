{
 "cells": [
  {
   "attachments": {},
   "cell_type": "markdown",
   "metadata": {},
   "source": [
    "### Load a pre-trained model"
   ]
  },
  {
   "cell_type": "code",
   "execution_count": 1,
   "metadata": {},
   "outputs": [],
   "source": [
    "\n",
    "import multiDGD\n",
    "import numpy as np\n",
    "#import mudata as md\n",
    "import anndata as ad"
   ]
  },
  {
   "cell_type": "code",
   "execution_count": 2,
   "metadata": {},
   "outputs": [
    {
     "name": "stdout",
     "output_type": "stream",
     "text": [
      "Covariate model initialized as:\n",
      "\n",
      "        Gaussian_mix_compture:\n",
      "            Dimensionality: 2\n",
      "            Number of components: 4\n",
      "        \n",
      "#######################\n",
      "Training status\n",
      "#######################\n",
      "True\n"
     ]
    }
   ],
   "source": [
    "# load some test data\n",
    "data = ad.read_h5ad('./data/human_bonemarrow/example_data.h5ad')\n",
    "\n",
    "# load model from the saved checkpoint\n",
    "model = multiDGD.DGD.load(data=data, save_dir='./models/', model_name='dgd_bonemarrow_default')"
   ]
  },
  {
   "attachments": {},
   "cell_type": "markdown",
   "metadata": {},
   "source": [
    "### Gene2Peak\n",
    "\n",
    "This feature performs in silico perturbations on the specified gene and predicts the changes in prediction on all output features.\n",
    "\n",
    "Currently, we only support this being performed on the test data. See the tutorial on training and testing an anndata object for details on the model and test data.\n",
    "\n",
    "Right now the perturbations only consist of silencing of the given gene. Thus, a negative predicted change suggests a positive correlation.\n",
    "\n",
    "I will soon add the up-regulation and peak2gene feature."
   ]
  },
  {
   "cell_type": "code",
   "execution_count": 3,
   "metadata": {},
   "outputs": [],
   "source": [
    "# specify the gene we want to look at\n",
    "gene_name = \"ID2\"\n",
    "\n",
    "# and the samples we want to look at\n",
    "test_set = data[data.obs[\"train_val_test\"] == \"test\",:].copy()"
   ]
  },
  {
   "cell_type": "code",
   "execution_count": 4,
   "metadata": {},
   "outputs": [
    {
     "name": "stdout",
     "output_type": "stream",
     "text": [
      "using 185 samples\n"
     ]
    }
   ],
   "source": [
    "predicted_changes, samples_of_interest = model.gene2peak(gene_name=gene_name, testset=test_set)"
   ]
  },
  {
   "cell_type": "code",
   "execution_count": 6,
   "metadata": {},
   "outputs": [],
   "source": [
    "delta_gex = predicted_changes[0]\n",
    "delta_atac = predicted_changes[1]"
   ]
  }
 ],
 "metadata": {
  "kernelspec": {
   "display_name": "Python 3",
   "language": "python",
   "name": "python3"
  },
  "language_info": {
   "codemirror_mode": {
    "name": "ipython",
    "version": 3
   },
   "file_extension": ".py",
   "mimetype": "text/x-python",
   "name": "python",
   "nbconvert_exporter": "python",
   "pygments_lexer": "ipython3",
   "version": "3.10.11"
  },
  "orig_nbformat": 4
 },
 "nbformat": 4,
 "nbformat_minor": 2
}
