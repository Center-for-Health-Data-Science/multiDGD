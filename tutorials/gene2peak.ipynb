{
 "cells": [
  {
   "attachments": {},
   "cell_type": "markdown",
   "metadata": {},
   "source": [
    "### Load a pre-trained model"
   ]
  },
  {
   "cell_type": "code",
   "execution_count": 1,
   "metadata": {},
   "outputs": [],
   "source": [
    "\n",
    "import multiDGD\n",
    "import numpy as np\n",
    "#import mudata as md\n",
    "import anndata as ad"
   ]
  },
  {
   "cell_type": "code",
   "execution_count": 2,
   "metadata": {},
   "outputs": [
    {
     "ename": "KeyboardInterrupt",
     "evalue": "",
     "output_type": "error",
     "traceback": [
      "\u001b[0;31m---------------------------------------------------------------------------\u001b[0m",
      "\u001b[0;31mKeyboardInterrupt\u001b[0m                         Traceback (most recent call last)",
      "Cell \u001b[0;32mIn[2], line 2\u001b[0m\n\u001b[1;32m      1\u001b[0m \u001b[39m# load some test data\u001b[39;00m\n\u001b[0;32m----> 2\u001b[0m data \u001b[39m=\u001b[39m ad\u001b[39m.\u001b[39;49mread_h5ad(\u001b[39m'\u001b[39;49m\u001b[39m../data/human_bonemarrow/GSE194122_openproblems_neurips2021_multiome_BMMC_processed.h5ad\u001b[39;49m\u001b[39m'\u001b[39;49m)\n\u001b[1;32m      3\u001b[0m data \u001b[39m=\u001b[39m data[::\u001b[39m100\u001b[39m,:] \u001b[39m# this is just to make it smaller for the demo\u001b[39;00m\n\u001b[1;32m      4\u001b[0m \u001b[39m# set it up with the model\u001b[39;00m\n",
      "File \u001b[0;32m/usr/local/lib/python3.10/site-packages/anndata/_io/h5ad.py:238\u001b[0m, in \u001b[0;36mread_h5ad\u001b[0;34m(filename, backed, as_sparse, as_sparse_fmt, chunk_size)\u001b[0m\n\u001b[1;32m    236\u001b[0m         d[k] \u001b[39m=\u001b[39m read_dataframe(f[k])\n\u001b[1;32m    237\u001b[0m     \u001b[39melse\u001b[39;00m:  \u001b[39m# Base case\u001b[39;00m\n\u001b[0;32m--> 238\u001b[0m         d[k] \u001b[39m=\u001b[39m read_elem(f[k])\n\u001b[1;32m    240\u001b[0m d[\u001b[39m\"\u001b[39m\u001b[39mraw\u001b[39m\u001b[39m\"\u001b[39m] \u001b[39m=\u001b[39m _read_raw(f, as_sparse, rdasp)\n\u001b[1;32m    242\u001b[0m X_dset \u001b[39m=\u001b[39m f\u001b[39m.\u001b[39mget(\u001b[39m\"\u001b[39m\u001b[39mX\u001b[39m\u001b[39m\"\u001b[39m, \u001b[39mNone\u001b[39;00m)\n",
      "File \u001b[0;32m/usr/local/lib/python3.10/site-packages/anndata/_io/specs/registry.py:183\u001b[0m, in \u001b[0;36mread_elem\u001b[0;34m(elem, modifiers)\u001b[0m\n\u001b[1;32m    178\u001b[0m \u001b[39mdef\u001b[39;00m \u001b[39mread_elem\u001b[39m(\n\u001b[1;32m    179\u001b[0m     elem: Union[H5Array, H5Group, ZarrGroup, ZarrArray],\n\u001b[1;32m    180\u001b[0m     modifiers: \u001b[39mfrozenset\u001b[39m(\u001b[39mstr\u001b[39m) \u001b[39m=\u001b[39m \u001b[39mfrozenset\u001b[39m(),\n\u001b[1;32m    181\u001b[0m ) \u001b[39m-\u001b[39m\u001b[39m>\u001b[39m Any:\n\u001b[1;32m    182\u001b[0m \u001b[39m    \u001b[39m\u001b[39m\"\"\"Read an element from an on disk store.\"\"\"\u001b[39;00m\n\u001b[0;32m--> 183\u001b[0m     \u001b[39mreturn\u001b[39;00m _REGISTRY\u001b[39m.\u001b[39;49mget_reader(\u001b[39mtype\u001b[39;49m(elem), get_spec(elem), \u001b[39mfrozenset\u001b[39;49m(modifiers))(elem)\n",
      "File \u001b[0;32m/usr/local/lib/python3.10/site-packages/anndata/_io/specs/methods.py:92\u001b[0m, in \u001b[0;36mread_basic\u001b[0;34m(elem)\u001b[0m\n\u001b[1;32m     90\u001b[0m     \u001b[39mif\u001b[39;00m \u001b[39m\"\u001b[39m\u001b[39mh5sparse_format\u001b[39m\u001b[39m\"\u001b[39m \u001b[39min\u001b[39;00m elem\u001b[39m.\u001b[39mattrs:\n\u001b[1;32m     91\u001b[0m         \u001b[39mreturn\u001b[39;00m SparseDataset(elem)\u001b[39m.\u001b[39mto_memory()\n\u001b[0;32m---> 92\u001b[0m     \u001b[39mreturn\u001b[39;00m {k: read_elem(v) \u001b[39mfor\u001b[39;00m k, v \u001b[39min\u001b[39;00m elem\u001b[39m.\u001b[39mitems()}\n\u001b[1;32m     93\u001b[0m \u001b[39melif\u001b[39;00m \u001b[39misinstance\u001b[39m(elem, h5py\u001b[39m.\u001b[39mDataset):\n\u001b[1;32m     94\u001b[0m     \u001b[39mreturn\u001b[39;00m h5ad\u001b[39m.\u001b[39mread_dataset(elem)\n",
      "File \u001b[0;32m/usr/local/lib/python3.10/site-packages/anndata/_io/specs/methods.py:92\u001b[0m, in \u001b[0;36m<dictcomp>\u001b[0;34m(.0)\u001b[0m\n\u001b[1;32m     90\u001b[0m     \u001b[39mif\u001b[39;00m \u001b[39m\"\u001b[39m\u001b[39mh5sparse_format\u001b[39m\u001b[39m\"\u001b[39m \u001b[39min\u001b[39;00m elem\u001b[39m.\u001b[39mattrs:\n\u001b[1;32m     91\u001b[0m         \u001b[39mreturn\u001b[39;00m SparseDataset(elem)\u001b[39m.\u001b[39mto_memory()\n\u001b[0;32m---> 92\u001b[0m     \u001b[39mreturn\u001b[39;00m {k: read_elem(v) \u001b[39mfor\u001b[39;00m k, v \u001b[39min\u001b[39;00m elem\u001b[39m.\u001b[39mitems()}\n\u001b[1;32m     93\u001b[0m \u001b[39melif\u001b[39;00m \u001b[39misinstance\u001b[39m(elem, h5py\u001b[39m.\u001b[39mDataset):\n\u001b[1;32m     94\u001b[0m     \u001b[39mreturn\u001b[39;00m h5ad\u001b[39m.\u001b[39mread_dataset(elem)\n",
      "File \u001b[0;32m/usr/local/lib/python3.10/site-packages/anndata/_io/specs/registry.py:183\u001b[0m, in \u001b[0;36mread_elem\u001b[0;34m(elem, modifiers)\u001b[0m\n\u001b[1;32m    178\u001b[0m \u001b[39mdef\u001b[39;00m \u001b[39mread_elem\u001b[39m(\n\u001b[1;32m    179\u001b[0m     elem: Union[H5Array, H5Group, ZarrGroup, ZarrArray],\n\u001b[1;32m    180\u001b[0m     modifiers: \u001b[39mfrozenset\u001b[39m(\u001b[39mstr\u001b[39m) \u001b[39m=\u001b[39m \u001b[39mfrozenset\u001b[39m(),\n\u001b[1;32m    181\u001b[0m ) \u001b[39m-\u001b[39m\u001b[39m>\u001b[39m Any:\n\u001b[1;32m    182\u001b[0m \u001b[39m    \u001b[39m\u001b[39m\"\"\"Read an element from an on disk store.\"\"\"\u001b[39;00m\n\u001b[0;32m--> 183\u001b[0m     \u001b[39mreturn\u001b[39;00m _REGISTRY\u001b[39m.\u001b[39;49mget_reader(\u001b[39mtype\u001b[39;49m(elem), get_spec(elem), \u001b[39mfrozenset\u001b[39;49m(modifiers))(elem)\n",
      "File \u001b[0;32m/usr/local/lib/python3.10/site-packages/anndata/_io/specs/methods.py:475\u001b[0m, in \u001b[0;36mread_sparse\u001b[0;34m(elem)\u001b[0m\n\u001b[1;32m    470\u001b[0m \u001b[39m@_REGISTRY\u001b[39m\u001b[39m.\u001b[39mregister_read(H5Group, IOSpec(\u001b[39m\"\u001b[39m\u001b[39mcsc_matrix\u001b[39m\u001b[39m\"\u001b[39m, \u001b[39m\"\u001b[39m\u001b[39m0.1.0\u001b[39m\u001b[39m\"\u001b[39m))\n\u001b[1;32m    471\u001b[0m \u001b[39m@_REGISTRY\u001b[39m\u001b[39m.\u001b[39mregister_read(H5Group, IOSpec(\u001b[39m\"\u001b[39m\u001b[39mcsr_matrix\u001b[39m\u001b[39m\"\u001b[39m, \u001b[39m\"\u001b[39m\u001b[39m0.1.0\u001b[39m\u001b[39m\"\u001b[39m))\n\u001b[1;32m    472\u001b[0m \u001b[39m@_REGISTRY\u001b[39m\u001b[39m.\u001b[39mregister_read(ZarrGroup, IOSpec(\u001b[39m\"\u001b[39m\u001b[39mcsc_matrix\u001b[39m\u001b[39m\"\u001b[39m, \u001b[39m\"\u001b[39m\u001b[39m0.1.0\u001b[39m\u001b[39m\"\u001b[39m))\n\u001b[1;32m    473\u001b[0m \u001b[39m@_REGISTRY\u001b[39m\u001b[39m.\u001b[39mregister_read(ZarrGroup, IOSpec(\u001b[39m\"\u001b[39m\u001b[39mcsr_matrix\u001b[39m\u001b[39m\"\u001b[39m, \u001b[39m\"\u001b[39m\u001b[39m0.1.0\u001b[39m\u001b[39m\"\u001b[39m))\n\u001b[1;32m    474\u001b[0m \u001b[39mdef\u001b[39;00m \u001b[39mread_sparse\u001b[39m(elem):\n\u001b[0;32m--> 475\u001b[0m     \u001b[39mreturn\u001b[39;00m SparseDataset(elem)\u001b[39m.\u001b[39;49mto_memory()\n",
      "File \u001b[0;32m/usr/local/lib/python3.10/site-packages/anndata/_core/sparse_dataset.py:379\u001b[0m, in \u001b[0;36mSparseDataset.to_memory\u001b[0;34m(self)\u001b[0m\n\u001b[1;32m    377\u001b[0m format_class \u001b[39m=\u001b[39m get_memory_class(\u001b[39mself\u001b[39m\u001b[39m.\u001b[39mformat_str)\n\u001b[1;32m    378\u001b[0m mtx \u001b[39m=\u001b[39m format_class(\u001b[39mself\u001b[39m\u001b[39m.\u001b[39mshape, dtype\u001b[39m=\u001b[39m\u001b[39mself\u001b[39m\u001b[39m.\u001b[39mdtype)\n\u001b[0;32m--> 379\u001b[0m mtx\u001b[39m.\u001b[39mdata \u001b[39m=\u001b[39m \u001b[39mself\u001b[39;49m\u001b[39m.\u001b[39;49mgroup[\u001b[39m\"\u001b[39;49m\u001b[39mdata\u001b[39;49m\u001b[39m\"\u001b[39;49m][\u001b[39m.\u001b[39;49m\u001b[39m.\u001b[39;49m\u001b[39m.\u001b[39;49m]\n\u001b[1;32m    380\u001b[0m mtx\u001b[39m.\u001b[39mindices \u001b[39m=\u001b[39m \u001b[39mself\u001b[39m\u001b[39m.\u001b[39mgroup[\u001b[39m\"\u001b[39m\u001b[39mindices\u001b[39m\u001b[39m\"\u001b[39m][\u001b[39m.\u001b[39m\u001b[39m.\u001b[39m\u001b[39m.\u001b[39m]\n\u001b[1;32m    381\u001b[0m mtx\u001b[39m.\u001b[39mindptr \u001b[39m=\u001b[39m \u001b[39mself\u001b[39m\u001b[39m.\u001b[39mgroup[\u001b[39m\"\u001b[39m\u001b[39mindptr\u001b[39m\u001b[39m\"\u001b[39m][\u001b[39m.\u001b[39m\u001b[39m.\u001b[39m\u001b[39m.\u001b[39m]\n",
      "File \u001b[0;32mh5py/_objects.pyx:54\u001b[0m, in \u001b[0;36mh5py._objects.with_phil.wrapper\u001b[0;34m()\u001b[0m\n",
      "File \u001b[0;32mh5py/_objects.pyx:55\u001b[0m, in \u001b[0;36mh5py._objects.with_phil.wrapper\u001b[0;34m()\u001b[0m\n",
      "File \u001b[0;32m/usr/local/lib/python3.10/site-packages/h5py/_hl/dataset.py:741\u001b[0m, in \u001b[0;36mDataset.__getitem__\u001b[0;34m(self, args, new_dtype)\u001b[0m\n\u001b[1;32m    739\u001b[0m \u001b[39mif\u001b[39;00m \u001b[39mself\u001b[39m\u001b[39m.\u001b[39m_fast_read_ok \u001b[39mand\u001b[39;00m (new_dtype \u001b[39mis\u001b[39;00m \u001b[39mNone\u001b[39;00m):\n\u001b[1;32m    740\u001b[0m     \u001b[39mtry\u001b[39;00m:\n\u001b[0;32m--> 741\u001b[0m         \u001b[39mreturn\u001b[39;00m \u001b[39mself\u001b[39;49m\u001b[39m.\u001b[39;49m_fast_reader\u001b[39m.\u001b[39;49mread(args)\n\u001b[1;32m    742\u001b[0m     \u001b[39mexcept\u001b[39;00m \u001b[39mTypeError\u001b[39;00m:\n\u001b[1;32m    743\u001b[0m         \u001b[39mpass\u001b[39;00m  \u001b[39m# Fall back to Python read pathway below\u001b[39;00m\n",
      "\u001b[0;31mKeyboardInterrupt\u001b[0m: "
     ]
    }
   ],
   "source": [
    "# load some test data\n",
    "data = ad.read_h5ad('../data/human_bonemarrow/GSE194122_openproblems_neurips2021_multiome_BMMC_processed.h5ad')\n",
    "data = data[::100,:] # this is just to make it smaller for the demo\n",
    "# set it up with the model\n",
    "data = multiDGD.functions._data.setup_data(data, modality_key='feature_types', observable_key='cell_type', covariate_keys=['Site'])\n",
    "\n",
    "# load model from the saved checkpoint\n",
    "model = multiDGD.DGD.load(data=data, save_dir='./', model_name='dgd')"
   ]
  },
  {
   "attachments": {},
   "cell_type": "markdown",
   "metadata": {},
   "source": [
    "### Gene2Peak"
   ]
  },
  {
   "cell_type": "code",
   "execution_count": null,
   "metadata": {},
   "outputs": [],
   "source": [
    "# specify the gene we want to look at\n",
    "gene_name = \"ID2\"\n",
    "\n",
    "# and the samples we want to look at\n",
    "test_set = data[data.obs[\"train_val_test\"] == \"test\",:].copy()"
   ]
  },
  {
   "cell_type": "code",
   "execution_count": null,
   "metadata": {},
   "outputs": [],
   "source": [
    "from multiDGD.functions._gene2peak import get_gene_ids, predict_perturbations_hidden\n",
    "\n",
    "def gene2peak(model, gene_name, testset, gene_ref=None):\n",
    "    if gene_name not in testset.var_names:\n",
    "        if gene_ref is not None:\n",
    "            if isinstance(gene_ref, str):\n",
    "                gene_ref = testset.var[gene_ref]\n",
    "            else:\n",
    "                raise ValueError(\"gene_ref must be a string\")\n",
    "        else:\n",
    "            raise ValueError(\"Gene was not found in data. It might be spelled wrong or you need to specify the var column name that contains the gene name.\")\n",
    "    else:\n",
    "        gene_ref = testset.var_names\n",
    "    gene_id = np.where(gene_ref == gene_name)[0][0]\n",
    "    predictions_original_gene, predictions_upregulated_gene, test_set, indices_of_interest_gene = predict_perturbations_hidden(model, testset, gene_id)\n",
    "    return predictions_original_gene, predictions_upregulated_gene, indices_of_interest_gene"
   ]
  }
 ],
 "metadata": {
  "kernelspec": {
   "display_name": "Python 3",
   "language": "python",
   "name": "python3"
  },
  "language_info": {
   "codemirror_mode": {
    "name": "ipython",
    "version": 3
   },
   "file_extension": ".py",
   "mimetype": "text/x-python",
   "name": "python",
   "nbconvert_exporter": "python",
   "pygments_lexer": "ipython3",
   "version": "3.10.11"
  },
  "orig_nbformat": 4
 },
 "nbformat": 4,
 "nbformat_minor": 2
}
